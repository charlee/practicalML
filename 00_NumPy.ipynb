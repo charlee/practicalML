{
  "nbformat": 4,
  "nbformat_minor": 0,
  "metadata": {
    "colab": {
      "name": "00_NumPy.ipynb",
      "version": "0.3.2",
      "provenance": [],
      "collapsed_sections": [],
      "include_colab_link": true
    },
    "kernelspec": {
      "name": "python3",
      "display_name": "Python 3"
    }
  },
  "cells": [
    {
      "cell_type": "markdown",
      "metadata": {
        "id": "view-in-github",
        "colab_type": "text"
      },
      "source": [
        "<a href=\"https://colab.research.google.com/github/charlee/practicalML/blob/master/00_NumPy.ipynb\" target=\"_parent\"><img src=\"https://colab.research.google.com/assets/colab-badge.svg\" alt=\"Open In Colab\"/></a>"
      ]
    },
    {
      "metadata": {
        "id": "2fKmmSBbhDCr",
        "colab_type": "text"
      },
      "cell_type": "markdown",
      "source": [
        "# NumPy\n",
        "\n",
        "In this notebook I will explain some basic usage of numpy mainly for machine learning purposes."
      ]
    },
    {
      "metadata": {
        "id": "GhfNymJsg3df",
        "colab_type": "code",
        "colab": {}
      },
      "cell_type": "code",
      "source": [
        "# First we need to import numpy, and usually rename it to `np` for convenience\n",
        "import numpy as np"
      ],
      "execution_count": 0,
      "outputs": []
    },
    {
      "metadata": {
        "id": "ymhg9TobjQMS",
        "colab_type": "text"
      },
      "cell_type": "markdown",
      "source": [
        "## Vectors / Matrices\n",
        "\n",
        "The most useful data structures in machine learning is vectors and matricies.\n",
        "Usually the input $X$ is provided as a matrix with shape of $(N, d)$, where $N$ is the number of samples\n",
        "and $d$ is the number of features.\n",
        "The output is usually a vector $y$ with shape of $(d)$.\n",
        "\n",
        "**Note**: All the elements in a numpy array must have the same data type. Usually we use `np.float64`.\n",
        "When creating array with constants, add a decimal point `.` after integer to make it a float. (i.e. `1.` instead of `1`)."
      ]
    },
    {
      "metadata": {
        "id": "hVnEbtY2haor",
        "colab_type": "code",
        "colab": {
          "base_uri": "https://localhost:8080/",
          "height": 134
        },
        "outputId": "81098c34-0ffd-4651-b7ee-026971f8d769"
      },
      "cell_type": "code",
      "source": [
        "# Create vector / matrix\n",
        "# Conventionally, use uppercase letter for matrix and lowercase letter for vector\n",
        "\n",
        "# 1-d array => vector\n",
        "w = np.array([1,2,3])\n",
        "print(\"w = \", w)\n",
        "\n",
        "# 2-d array => matrix\n",
        "X = np.array([[1.,2.,3.], [4.,5.,6.]])\n",
        "print(\"X = \", X)\n",
        "\n",
        "# shapes\n",
        "print(\"w.shape = \", w.shape)\n",
        "print(\"X.shape = \", X.shape)\n",
        "\n",
        "# Data type\n",
        "print(\"w.dtype = \", w.dtype)\n",
        "print(\"X.dtype = \", X.dtype)"
      ],
      "execution_count": 13,
      "outputs": [
        {
          "output_type": "stream",
          "text": [
            "w =  [1 2 3]\n",
            "X =  [[1. 2. 3.]\n",
            " [4. 5. 6.]]\n",
            "w.shape =  (3,)\n",
            "X.shape =  (2, 3)\n",
            "w.dtype =  int64\n",
            "X.dtype =  float64\n"
          ],
          "name": "stdout"
        }
      ]
    },
    {
      "metadata": {
        "id": "ewi-OLcpiFTw",
        "colab_type": "code",
        "colab": {
          "base_uri": "https://localhost:8080/",
          "height": 353
        },
        "outputId": "ef1cb867-9eae-4142-ac50-7694dfba87e8"
      },
      "cell_type": "code",
      "source": [
        "# Create zero matrix\n",
        "X = np.zeros(shape=[3, 4])\n",
        "print(\"Zero matrix\\n\", X)\n",
        "\n",
        "# Random valued matrix (uniform distribution)\n",
        "X = np.random.rand(3, 4)\n",
        "print(\"Random matrix\\n\", X)\n",
        "\n",
        "# 1 matrix\n",
        "X = np.ones(shape=[3, 4])\n",
        "print(\"1 matrix\\n\", X)\n",
        "\n",
        "# Matrix with arbitrary value\n",
        "X = np.empty(shape=[3, 4])\n",
        "X.fill(3)\n",
        "print(\"3 matrix\\n\", X)\n",
        "\n",
        "# Identity matrix\n",
        "X = np.eye(3)\n",
        "print(\"Identity(3x3)\\n\", X)"
      ],
      "execution_count": 23,
      "outputs": [
        {
          "output_type": "stream",
          "text": [
            "Zero matrix\n",
            " [[0. 0. 0. 0.]\n",
            " [0. 0. 0. 0.]\n",
            " [0. 0. 0. 0.]]\n",
            "Random matrix\n",
            " [[0.72729723 0.1936502  0.53600168 0.92075096]\n",
            " [0.3402273  0.43510733 0.96235618 0.38138813]\n",
            " [0.61589393 0.66103064 0.10208497 0.41653688]]\n",
            "1 matrix\n",
            " [[1. 1. 1. 1.]\n",
            " [1. 1. 1. 1.]\n",
            " [1. 1. 1. 1.]]\n",
            "3 matrix\n",
            " [[3. 3. 3. 3.]\n",
            " [3. 3. 3. 3.]\n",
            " [3. 3. 3. 3.]]\n",
            "Identity(3x3)\n",
            " [[1. 0. 0.]\n",
            " [0. 1. 0.]\n",
            " [0. 0. 1.]]\n"
          ],
          "name": "stdout"
        }
      ]
    },
    {
      "metadata": {
        "id": "eBDybS42kxLg",
        "colab_type": "text"
      },
      "cell_type": "markdown",
      "source": [
        "Here are some practical examples."
      ]
    },
    {
      "metadata": {
        "id": "OvOtjA0hk0vh",
        "colab_type": "code",
        "colab": {}
      },
      "cell_type": "code",
      "source": [
        "# Test data\n",
        "X = np.random.rand(100, 4)\n",
        "\n",
        "# Create weight vector `w` based on input\n",
        "N, d = X.shape\n",
        "w = np.zeros(shape=[d])\n"
      ],
      "execution_count": 0,
      "outputs": []
    },
    {
      "metadata": {
        "id": "fn-_c-f3lJYK",
        "colab_type": "text"
      },
      "cell_type": "markdown",
      "source": [
        "## Vector / Matrix operations"
      ]
    },
    {
      "metadata": {
        "id": "UBDM_AYHlMDh",
        "colab_type": "code",
        "colab": {
          "base_uri": "https://localhost:8080/",
          "height": 638
        },
        "outputId": "cc185b0f-52fb-4d89-ed72-7326713c4ec3"
      },
      "cell_type": "code",
      "source": [
        "#######################################\n",
        "# Vector operations\n",
        "#######################################\n",
        "\n",
        "a = np.array([1., 2., 3., 4., 5.])\n",
        "b = np.array([6., 7., 8., 9., 10.])\n",
        "print('Vector operations\\n-----------------')\n",
        "\n",
        "# scalar operations\n",
        "print(\"Scalar: \", a * 2 + 1)\n",
        "\n",
        "# element-wise operations\n",
        "print(\"a+b=\", a + b)\n",
        "print(\"a*b=\", a * b)\n",
        "\n",
        "# dot product\n",
        "print(\"a.b=\", np.dot(a, b))\n",
        "\n",
        "# L2-norm\n",
        "print(\"L2-norm: ||a||=\", np.linalg.norm(a))\n",
        "print(\"L2-norm square: ||a||^2=\", np.square(np.linalg.norm(a)))\n",
        "print(\"L2-norm square(alternative): \", np.dot(a, a))\n",
        "\n",
        "#######################################\n",
        "# Matrix operations\n",
        "#######################################\n",
        "\n",
        "A = np.array([[1., 2., 3.], [4., 5., 6]])\n",
        "B = np.array([[7., 8.], [9., 10.], [11., 12.]])\n",
        "C = np.array([[100, 200], [300, 400]])\n",
        "print('\\n\\nMatrix operations\\n-----------------')\n",
        "print('A = \\n', A)\n",
        "print('B = \\n', B)\n",
        "print('C = \\n', C)\n",
        "\n",
        "# Transpose\n",
        "print('A^T = \\n', A.T)\n",
        "\n",
        "# Inverse\n",
        "print('C^-1 = \\n', np.linalg.inv(C))\n",
        "\n",
        "# Multiplication\n",
        "print('A * B = \\n', np.matmul(A, B))\n",
        "print('B * A = \\n', np.matmul(B, A))\n"
      ],
      "execution_count": 42,
      "outputs": [
        {
          "output_type": "stream",
          "text": [
            "Vector operations\n",
            "-----------------\n",
            "Scalar:  [ 3.  5.  7.  9. 11.]\n",
            "a+b= [ 7.  9. 11. 13. 15.]\n",
            "a*b= [ 6. 14. 24. 36. 50.]\n",
            "a.b= 130.0\n",
            "L2-norm: ||a||= 7.416198487095663\n",
            "L2-norm square: ||a||^2= 55.0\n",
            "L2-norm square(alternative):  55.0\n",
            "\n",
            "\n",
            "Matrix operations\n",
            "-----------------\n",
            "A = \n",
            " [[1. 2. 3.]\n",
            " [4. 5. 6.]]\n",
            "B = \n",
            " [[ 7.  8.]\n",
            " [ 9. 10.]\n",
            " [11. 12.]]\n",
            "C = \n",
            " [[100 200]\n",
            " [300 400]]\n",
            "A^T = \n",
            " [[1. 4.]\n",
            " [2. 5.]\n",
            " [3. 6.]]\n",
            "C^-1 = \n",
            " [[-0.02   0.01 ]\n",
            " [ 0.015 -0.005]]\n",
            "A * B = \n",
            " [[ 58.  64.]\n",
            " [139. 154.]]\n",
            "B * A = \n",
            " [[ 39.  54.  69.]\n",
            " [ 49.  68.  87.]\n",
            " [ 59.  82. 105.]]\n"
          ],
          "name": "stdout"
        }
      ]
    },
    {
      "metadata": {
        "id": "2PHnZ4zYqT_4",
        "colab_type": "text"
      },
      "cell_type": "markdown",
      "source": [
        "## Matrix slicing, expanding\n",
        "\n",
        "How to change the dimension of matrices."
      ]
    },
    {
      "metadata": {
        "id": "uYxBk6CbqXGq",
        "colab_type": "code",
        "colab": {
          "base_uri": "https://localhost:8080/",
          "height": 235
        },
        "outputId": "8ccd4df0-6a04-41d2-c856-1537fa755990"
      },
      "cell_type": "code",
      "source": [
        "# Slice\n",
        "print('1st column of A = ', A[:,0])\n",
        "print('2nd row of A = ', A[1])\n",
        "print('last column of A = ', A[:, -1])\n",
        "print('1-2 columns of A = \\n', A[:, 0:2])\n",
        "\n",
        "# Split, usually used to extract training input and training labels\n",
        "input = A[:,:-1]\n",
        "labels = A[:,-1]\n",
        "print('input = \\n', input)\n",
        "print('labels = ', labels)\n",
        "\n",
        "# Add one extra 1's column to A\n",
        "ones = np.ones(shape=[A.shape[0], 1])\n",
        "print('Extended A = \\n', np.hstack([ones, A]))"
      ],
      "execution_count": 49,
      "outputs": [
        {
          "output_type": "stream",
          "text": [
            "1st column of A =  [1. 4.]\n",
            "2nd row of A =  [4. 5. 6.]\n",
            "last column of A =  [3. 6.]\n",
            "1-2 columns of A = \n",
            " [[1. 2.]\n",
            " [4. 5.]]\n",
            "input = \n",
            " [[1. 2.]\n",
            " [4. 5.]]\n",
            "labels =  [3. 6.]\n",
            "Extended A = \n",
            " [[1. 1. 2. 3.]\n",
            " [1. 4. 5. 6.]]\n"
          ],
          "name": "stdout"
        }
      ]
    }
  ]
}