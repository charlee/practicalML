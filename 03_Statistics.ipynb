{
  "nbformat": 4,
  "nbformat_minor": 0,
  "metadata": {
    "colab": {
      "name": "03_Statistics.ipynb",
      "version": "0.3.2",
      "provenance": [],
      "collapsed_sections": [],
      "include_colab_link": true
    },
    "kernelspec": {
      "name": "python3",
      "display_name": "Python 3"
    }
  },
  "cells": [
    {
      "cell_type": "markdown",
      "metadata": {
        "id": "view-in-github",
        "colab_type": "text"
      },
      "source": [
        "<a href=\"https://colab.research.google.com/github/charlee/practicalML/blob/master/03_Statistics.ipynb\" target=\"_parent\"><img src=\"https://colab.research.google.com/assets/colab-badge.svg\" alt=\"Open In Colab\"/></a>"
      ]
    },
    {
      "metadata": {
        "id": "QM1Fbezf5RLX",
        "colab_type": "text"
      },
      "cell_type": "markdown",
      "source": [
        "# Topics in Statistics\n",
        "\n",
        "\n",
        "## Sampling Distribution of the mean\n",
        "\n",
        "The mean of the sampling (say, sampling 10 from the population) will not equal to the population mean.\n",
        "Repeat this process (take 10 samples and compute the mean), and construct a **frequency distribution** of those means.\n",
        "\n",
        "Given a population with a mean of $\\mu$ and a standard deviation of $\\sigma$, the sampling distribution of the mean has:\n",
        "\n",
        "- $\\mu_M = \\mu$\n",
        "- $\\sigma_M = \\frac{\\sigma}{\\sqrt{n}}$\n",
        "\n",
        "where $n$ is the sample size. $\\sigma_M$ is called the *standard error of the mean*.\n",
        "\n"
      ]
    },
    {
      "metadata": {
        "id": "rvZTH8Kx6_Dl",
        "colab_type": "code",
        "outputId": "41b55ddd-28fa-4c25-f9bb-a7b1a2f5d440",
        "colab": {
          "base_uri": "https://localhost:8080/",
          "height": 362
        }
      },
      "cell_type": "code",
      "source": [
        "import numpy as np\n",
        "import math\n",
        "import matplotlib.pyplot as plt\n",
        "\n",
        "# Generate population\n",
        "population_size = 1000\n",
        "population = np.random.randint(100, size=population_size)\n",
        "\n",
        "# Sampling size\n",
        "n = 8\n",
        "\n",
        "means = []\n",
        "for N in range(1000):\n",
        "  # Sampling\n",
        "  samples = np.random.choice(population, size=n, replace=False)\n",
        "  means.append(np.mean(samples))\n",
        "  \n",
        "plt.subplot(1,3,1)\n",
        "plt.hist(means[:10], bins=10)\n",
        "plt.ylabel('Frequency')\n",
        "plt.title('N=10')\n",
        "\n",
        "plt.subplot(1,3,2)\n",
        "plt.hist(means[:100], bins=10)\n",
        "plt.ylabel('Frequency')\n",
        "plt.title('N=100')\n",
        "\n",
        "plt.subplot(1,3,3)\n",
        "plt.hist(means[:1000], bins=10)\n",
        "plt.ylabel('Frequency')\n",
        "plt.title('N=1000')\n",
        "\n",
        "\n",
        "plt.show()\n"
      ],
      "execution_count": 0,
      "outputs": [
        {
          "output_type": "display_data",
          "data": {
            "image/png": "[encoded data removed]",
            "text/plain": [
              "<Figure size 576x396 with 3 Axes>"
            ]
          },
          "metadata": {
            "tags": []
          }
        }
      ]
    },
    {
      "metadata": {
        "id": "bnsibuZt98Wi",
        "colab_type": "code",
        "outputId": "cc95e465-6bc6-40f3-d698-64900dc4e382",
        "colab": {
          "base_uri": "https://localhost:8080/",
          "height": 362
        }
      },
      "cell_type": "code",
      "source": [
        "from scipy.stats import norm\n",
        "\n",
        "sizes = (2, 4, 8, 16, 100, 500)\n",
        "xmin, xmax = (1, 100)\n",
        "x = np.linspace(xmin, xmax, 100)\n",
        "  \n",
        "\n",
        "for i, n in enumerate(sizes):\n",
        "  # Sampling\n",
        "  means = []\n",
        "  for N in range(1000):\n",
        "    samples = np.random.choice(population, size=n, replace=False)\n",
        "    means.append(np.mean(samples))\n",
        "\n",
        "  mu, std = norm.fit(means)\n",
        "\n",
        "  plt.subplot(2, math.ceil(len(sizes) / 2), i+1)\n",
        "  \n",
        "  plt.ylim(0, 500)\n",
        "  plt.xlim(1, 100)\n",
        "  plt.hist(means, bins=10)\n",
        "  p = norm.pdf(x, mu, std) * 1000      # TODO: how to plot on graph? * 1000?\n",
        "\n",
        "  plt.plot(x, p, 'k', linewidth=1)\n",
        "  plt.ylabel('Frequency')\n",
        "  plt.title('n=%s' % (n))\n",
        "\n",
        "plt.show()\n"
      ],
      "execution_count": 0,
      "outputs": [
        {
          "output_type": "display_data",
          "data": {
            "image/png": "[encoded data removed]",
            "text/plain": [
              "<Figure size 576x396 with 6 Axes>"
            ]
          },
          "metadata": {
            "tags": []
          }
        }
      ]
    },
    {
      "metadata": {
        "id": "3PgCIEB-banK",
        "colab_type": "text"
      },
      "cell_type": "markdown",
      "source": [
        "## Student's t-Test\n"
      ]
    },
    {
      "metadata": {
        "id": "voHdnXlk-odl",
        "colab_type": "text"
      },
      "cell_type": "markdown",
      "source": [
        "Try to use [Mall Customers](https://www.kaggle.com/vjchoudhary7/customer-segmentation-tutorial-in-python) from Kaggle to show the t-Test."
      ]
    },
    {
      "metadata": {
        "id": "frCv2MAQA03A",
        "colab_type": "code",
        "colab": {
          "base_uri": "https://localhost:8080/",
          "height": 195
        },
        "outputId": "20898f99-6ee7-452f-bc9e-29678fa9849d"
      },
      "cell_type": "code",
      "source": [
        "from scipy import stats\n",
        "import matplotlib.pyplot as plt\n",
        "import pandas as pd\n",
        "\n",
        "df = pd.read_csv('https://raw.githubusercontent.com/charlee/practicalML/master/datasets/Mall_Customers.csv')\n",
        "df.columns = ['id', 'gender', 'age', 'income', 'score']\n",
        "df = df.dropna()\n",
        "df.head()"
      ],
      "execution_count": 40,
      "outputs": [
        {
          "output_type": "execute_result",
          "data": {
            "text/html": [
              "<div>\n",
              "<style scoped>\n",
              "    .dataframe tbody tr th:only-of-type {\n",
              "        vertical-align: middle;\n",
              "    }\n",
              "\n",
              "    .dataframe tbody tr th {\n",
              "        vertical-align: top;\n",
              "    }\n",
              "\n",
              "    .dataframe thead th {\n",
              "        text-align: right;\n",
              "    }\n",
              "</style>\n",
              "<table border=\"1\" class=\"dataframe\">\n",
              "  <thead>\n",
              "    <tr style=\"text-align: right;\">\n",
              "      <th></th>\n",
              "      <th>id</th>\n",
              "      <th>gender</th>\n",
              "      <th>age</th>\n",
              "      <th>income</th>\n",
              "      <th>score</th>\n",
              "    </tr>\n",
              "  </thead>\n",
              "  <tbody>\n",
              "    <tr>\n",
              "      <th>0</th>\n",
              "      <td>1</td>\n",
              "      <td>Male</td>\n",
              "      <td>19</td>\n",
              "      <td>15</td>\n",
              "      <td>39</td>\n",
              "    </tr>\n",
              "    <tr>\n",
              "      <th>1</th>\n",
              "      <td>2</td>\n",
              "      <td>Male</td>\n",
              "      <td>21</td>\n",
              "      <td>15</td>\n",
              "      <td>81</td>\n",
              "    </tr>\n",
              "    <tr>\n",
              "      <th>2</th>\n",
              "      <td>3</td>\n",
              "      <td>Female</td>\n",
              "      <td>20</td>\n",
              "      <td>16</td>\n",
              "      <td>6</td>\n",
              "    </tr>\n",
              "    <tr>\n",
              "      <th>3</th>\n",
              "      <td>4</td>\n",
              "      <td>Female</td>\n",
              "      <td>23</td>\n",
              "      <td>16</td>\n",
              "      <td>77</td>\n",
              "    </tr>\n",
              "    <tr>\n",
              "      <th>4</th>\n",
              "      <td>5</td>\n",
              "      <td>Female</td>\n",
              "      <td>31</td>\n",
              "      <td>17</td>\n",
              "      <td>40</td>\n",
              "    </tr>\n",
              "  </tbody>\n",
              "</table>\n",
              "</div>"
            ],
            "text/plain": [
              "   id  gender  age  income  score\n",
              "0   1    Male   19      15     39\n",
              "1   2    Male   21      15     81\n",
              "2   3  Female   20      16      6\n",
              "3   4  Female   23      16     77\n",
              "4   5  Female   31      17     40"
            ]
          },
          "metadata": {
            "tags": []
          },
          "execution_count": 40
        }
      ]
    },
    {
      "metadata": {
        "id": "qEasRxqvBLPb",
        "colab_type": "code",
        "colab": {
          "base_uri": "https://localhost:8080/",
          "height": 284
        },
        "outputId": "332e4b65-7062-496d-ca72-e414b942327f"
      },
      "cell_type": "code",
      "source": [
        "df.describe()"
      ],
      "execution_count": 33,
      "outputs": [
        {
          "output_type": "execute_result",
          "data": {
            "text/html": [
              "<div>\n",
              "<style scoped>\n",
              "    .dataframe tbody tr th:only-of-type {\n",
              "        vertical-align: middle;\n",
              "    }\n",
              "\n",
              "    .dataframe tbody tr th {\n",
              "        vertical-align: top;\n",
              "    }\n",
              "\n",
              "    .dataframe thead th {\n",
              "        text-align: right;\n",
              "    }\n",
              "</style>\n",
              "<table border=\"1\" class=\"dataframe\">\n",
              "  <thead>\n",
              "    <tr style=\"text-align: right;\">\n",
              "      <th></th>\n",
              "      <th>id</th>\n",
              "      <th>age</th>\n",
              "      <th>income</th>\n",
              "      <th>score</th>\n",
              "    </tr>\n",
              "  </thead>\n",
              "  <tbody>\n",
              "    <tr>\n",
              "      <th>count</th>\n",
              "      <td>200.000000</td>\n",
              "      <td>200.000000</td>\n",
              "      <td>200.000000</td>\n",
              "      <td>200.000000</td>\n",
              "    </tr>\n",
              "    <tr>\n",
              "      <th>mean</th>\n",
              "      <td>100.500000</td>\n",
              "      <td>38.850000</td>\n",
              "      <td>60.560000</td>\n",
              "      <td>50.200000</td>\n",
              "    </tr>\n",
              "    <tr>\n",
              "      <th>std</th>\n",
              "      <td>57.879185</td>\n",
              "      <td>13.969007</td>\n",
              "      <td>26.264721</td>\n",
              "      <td>25.823522</td>\n",
              "    </tr>\n",
              "    <tr>\n",
              "      <th>min</th>\n",
              "      <td>1.000000</td>\n",
              "      <td>18.000000</td>\n",
              "      <td>15.000000</td>\n",
              "      <td>1.000000</td>\n",
              "    </tr>\n",
              "    <tr>\n",
              "      <th>25%</th>\n",
              "      <td>50.750000</td>\n",
              "      <td>28.750000</td>\n",
              "      <td>41.500000</td>\n",
              "      <td>34.750000</td>\n",
              "    </tr>\n",
              "    <tr>\n",
              "      <th>50%</th>\n",
              "      <td>100.500000</td>\n",
              "      <td>36.000000</td>\n",
              "      <td>61.500000</td>\n",
              "      <td>50.000000</td>\n",
              "    </tr>\n",
              "    <tr>\n",
              "      <th>75%</th>\n",
              "      <td>150.250000</td>\n",
              "      <td>49.000000</td>\n",
              "      <td>78.000000</td>\n",
              "      <td>73.000000</td>\n",
              "    </tr>\n",
              "    <tr>\n",
              "      <th>max</th>\n",
              "      <td>200.000000</td>\n",
              "      <td>70.000000</td>\n",
              "      <td>137.000000</td>\n",
              "      <td>99.000000</td>\n",
              "    </tr>\n",
              "  </tbody>\n",
              "</table>\n",
              "</div>"
            ],
            "text/plain": [
              "               id         age      income       score\n",
              "count  200.000000  200.000000  200.000000  200.000000\n",
              "mean   100.500000   38.850000   60.560000   50.200000\n",
              "std     57.879185   13.969007   26.264721   25.823522\n",
              "min      1.000000   18.000000   15.000000    1.000000\n",
              "25%     50.750000   28.750000   41.500000   34.750000\n",
              "50%    100.500000   36.000000   61.500000   50.000000\n",
              "75%    150.250000   49.000000   78.000000   73.000000\n",
              "max    200.000000   70.000000  137.000000   99.000000"
            ]
          },
          "metadata": {
            "tags": []
          },
          "execution_count": 33
        }
      ]
    },
    {
      "metadata": {
        "id": "MhGMrmBgBvqG",
        "colab_type": "text"
      },
      "cell_type": "markdown",
      "source": [
        "Now we compare the spending score of two groups: \"Male\" and \"Female\".\n",
        "\n",
        "First we determine a null hypothesis and an alternative hypothesis:\n",
        "- $H_0$: spending score of men and women are the same\n",
        "- $H_a$: spending score of men and women are different\n",
        "\n",
        "Next determine a confidence interval $\\alpha = 0.05$."
      ]
    },
    {
      "metadata": {
        "id": "tGG4buq_ChD6",
        "colab_type": "code",
        "colab": {
          "base_uri": "https://localhost:8080/",
          "height": 168
        },
        "outputId": "de31691b-6de3-4694-9691-2aae9af56614"
      },
      "cell_type": "code",
      "source": [
        "# Collect data\n",
        "male = df[df.gender=='Male'].score\n",
        "male.describe()"
      ],
      "execution_count": 38,
      "outputs": [
        {
          "output_type": "execute_result",
          "data": {
            "text/plain": [
              "count    88.000000\n",
              "mean     48.511364\n",
              "std      27.896770\n",
              "min       1.000000\n",
              "25%      24.500000\n",
              "50%      50.000000\n",
              "75%      70.000000\n",
              "max      97.000000\n",
              "Name: score, dtype: float64"
            ]
          },
          "metadata": {
            "tags": []
          },
          "execution_count": 38
        }
      ]
    },
    {
      "metadata": {
        "id": "zUisSYm8C_zc",
        "colab_type": "code",
        "colab": {
          "base_uri": "https://localhost:8080/",
          "height": 168
        },
        "outputId": "fd45f3fc-5120-4152-99ff-c201883447a8"
      },
      "cell_type": "code",
      "source": [
        "female = df[df.gender=='Female'].score\n",
        "female.describe()"
      ],
      "execution_count": 39,
      "outputs": [
        {
          "output_type": "execute_result",
          "data": {
            "text/plain": [
              "count    112.000000\n",
              "mean      51.526786\n",
              "std       24.114950\n",
              "min        5.000000\n",
              "25%       35.000000\n",
              "50%       50.000000\n",
              "75%       73.000000\n",
              "max       99.000000\n",
              "Name: score, dtype: float64"
            ]
          },
          "metadata": {
            "tags": []
          },
          "execution_count": 39
        }
      ]
    },
    {
      "metadata": {
        "id": "MRjXpyzVDzp0",
        "colab_type": "code",
        "colab": {
          "base_uri": "https://localhost:8080/",
          "height": 432
        },
        "outputId": "38ed3e59-a485-44ca-bd32-08c08ece35e7"
      },
      "cell_type": "code",
      "source": [
        "plt.boxplot([male, female], labels=['Male', 'Female'])\n",
        "plt.title('Spending score')"
      ],
      "execution_count": 43,
      "outputs": [
        {
          "output_type": "stream",
          "text": [
            "/usr/local/lib/python3.6/dist-packages/numpy/core/fromnumeric.py:52: FutureWarning: reshape is deprecated and will raise in a subsequent release. Please use .values.reshape(...) instead\n",
            "  return getattr(obj, method)(*args, **kwds)\n"
          ],
          "name": "stderr"
        },
        {
          "output_type": "execute_result",
          "data": {
            "text/plain": [
              "Text(0.5, 1.0, 'Spending score')"
            ]
          },
          "metadata": {
            "tags": []
          },
          "execution_count": 43
        },
        {
          "output_type": "display_data",
          "data": {
            "image/png": "[encoded data removed]",
            "text/plain": [
              "<Figure size 576x396 with 1 Axes>"
            ]
          },
          "metadata": {
            "tags": []
          }
        }
      ]
    },
    {
      "metadata": {
        "id": "oj-vlsCJDDpK",
        "colab_type": "text"
      },
      "cell_type": "markdown",
      "source": [
        "We can see that sample sizes of male and female are different. Use `scipy.stats.ttest_ind(equal_var=False)` to perform a two-sided t-test."
      ]
    },
    {
      "metadata": {
        "id": "n14a4QT8DPkb",
        "colab_type": "code",
        "colab": {
          "base_uri": "https://localhost:8080/",
          "height": 34
        },
        "outputId": "3f8440ac-ae0c-4907-8d5c-8f3def60ab83"
      },
      "cell_type": "code",
      "source": [
        "t, p = stats.ttest_ind(male.score, female.score, equal_var=False)\n",
        "print(t, p)"
      ],
      "execution_count": 37,
      "outputs": [
        {
          "output_type": "stream",
          "text": [
            "-0.8048781809684525 0.42199772447783646\n"
          ],
          "name": "stdout"
        }
      ]
    },
    {
      "metadata": {
        "id": "-YBEV3zIETY1",
        "colab_type": "text"
      },
      "cell_type": "markdown",
      "source": [
        "$p = 0.42 > \\alpha = 0.05$, we failed to reject $H_0$, thus there is no evidence that the spending score of men and women are different."
      ]
    },
    {
      "metadata": {
        "id": "kPIxtNwkBqTA",
        "colab_type": "text"
      },
      "cell_type": "markdown",
      "source": [
        "# UNUSED"
      ]
    },
    {
      "metadata": {
        "id": "PkS17YnRbd23",
        "colab_type": "code",
        "colab": {
          "base_uri": "https://localhost:8080/",
          "height": 195
        },
        "outputId": "7a9b6d47-de7c-4397-ad9b-317181af5012"
      },
      "cell_type": "code",
      "source": [
        "from scipy import stats\n",
        "import pandas as pd\n",
        "\n",
        "df = pd.read_csv('https://github.com/charlee/practicalML/raw/master/datasets/suicide-rates-overview-1985-to-2016.csv')\n",
        "df = df.dropna()\n",
        "\n",
        "# Only use US data for this test\n",
        "df = df[df.country == 'United States'].reset_index().drop(['index', 'country', 'country-year', 'generation'], axis=1)\n",
        "df.head()"
      ],
      "execution_count": 27,
      "outputs": [
        {
          "output_type": "execute_result",
          "data": {
            "text/html": [
              "<div>\n",
              "<style scoped>\n",
              "    .dataframe tbody tr th:only-of-type {\n",
              "        vertical-align: middle;\n",
              "    }\n",
              "\n",
              "    .dataframe tbody tr th {\n",
              "        vertical-align: top;\n",
              "    }\n",
              "\n",
              "    .dataframe thead th {\n",
              "        text-align: right;\n",
              "    }\n",
              "</style>\n",
              "<table border=\"1\" class=\"dataframe\">\n",
              "  <thead>\n",
              "    <tr style=\"text-align: right;\">\n",
              "      <th></th>\n",
              "      <th>year</th>\n",
              "      <th>sex</th>\n",
              "      <th>age</th>\n",
              "      <th>suicides_no</th>\n",
              "      <th>population</th>\n",
              "      <th>suicides/100k pop</th>\n",
              "      <th>HDI for year</th>\n",
              "      <th>gdp_for_year ($)</th>\n",
              "      <th>gdp_per_capita ($)</th>\n",
              "    </tr>\n",
              "  </thead>\n",
              "  <tbody>\n",
              "    <tr>\n",
              "      <th>0</th>\n",
              "      <td>1985</td>\n",
              "      <td>male</td>\n",
              "      <td>75+ years</td>\n",
              "      <td>2177</td>\n",
              "      <td>4064000</td>\n",
              "      <td>53.57</td>\n",
              "      <td>0.841</td>\n",
              "      <td>4,346,734,000,000</td>\n",
              "      <td>19693</td>\n",
              "    </tr>\n",
              "    <tr>\n",
              "      <th>1</th>\n",
              "      <td>1985</td>\n",
              "      <td>male</td>\n",
              "      <td>55-74 years</td>\n",
              "      <td>5302</td>\n",
              "      <td>17971000</td>\n",
              "      <td>29.50</td>\n",
              "      <td>0.841</td>\n",
              "      <td>4,346,734,000,000</td>\n",
              "      <td>19693</td>\n",
              "    </tr>\n",
              "    <tr>\n",
              "      <th>2</th>\n",
              "      <td>1985</td>\n",
              "      <td>male</td>\n",
              "      <td>25-34 years</td>\n",
              "      <td>5134</td>\n",
              "      <td>20986000</td>\n",
              "      <td>24.46</td>\n",
              "      <td>0.841</td>\n",
              "      <td>4,346,734,000,000</td>\n",
              "      <td>19693</td>\n",
              "    </tr>\n",
              "    <tr>\n",
              "      <th>3</th>\n",
              "      <td>1985</td>\n",
              "      <td>male</td>\n",
              "      <td>35-54 years</td>\n",
              "      <td>6053</td>\n",
              "      <td>26589000</td>\n",
              "      <td>22.77</td>\n",
              "      <td>0.841</td>\n",
              "      <td>4,346,734,000,000</td>\n",
              "      <td>19693</td>\n",
              "    </tr>\n",
              "    <tr>\n",
              "      <th>4</th>\n",
              "      <td>1985</td>\n",
              "      <td>male</td>\n",
              "      <td>15-24 years</td>\n",
              "      <td>4267</td>\n",
              "      <td>19962000</td>\n",
              "      <td>21.38</td>\n",
              "      <td>0.841</td>\n",
              "      <td>4,346,734,000,000</td>\n",
              "      <td>19693</td>\n",
              "    </tr>\n",
              "  </tbody>\n",
              "</table>\n",
              "</div>"
            ],
            "text/plain": [
              "   year   sex          age  suicides_no  population  suicides/100k pop  \\\n",
              "0  1985  male    75+ years         2177     4064000              53.57   \n",
              "1  1985  male  55-74 years         5302    17971000              29.50   \n",
              "2  1985  male  25-34 years         5134    20986000              24.46   \n",
              "3  1985  male  35-54 years         6053    26589000              22.77   \n",
              "4  1985  male  15-24 years         4267    19962000              21.38   \n",
              "\n",
              "   HDI for year  gdp_for_year ($)   gdp_per_capita ($)  \n",
              "0         0.841  4,346,734,000,000               19693  \n",
              "1         0.841  4,346,734,000,000               19693  \n",
              "2         0.841  4,346,734,000,000               19693  \n",
              "3         0.841  4,346,734,000,000               19693  \n",
              "4         0.841  4,346,734,000,000               19693  "
            ]
          },
          "metadata": {
            "tags": []
          },
          "execution_count": 27
        }
      ]
    },
    {
      "metadata": {
        "id": "Upk927FN9LZ9",
        "colab_type": "code",
        "colab": {
          "base_uri": "https://localhost:8080/",
          "height": 284
        },
        "outputId": "0ad53c58-49e7-43e6-f736-ddbf124de585"
      },
      "cell_type": "code",
      "source": [
        "# Group data by sex"
      ],
      "execution_count": 23,
      "outputs": [
        {
          "output_type": "execute_result",
          "data": {
            "text/html": [
              "<div>\n",
              "<style scoped>\n",
              "    .dataframe tbody tr th:only-of-type {\n",
              "        vertical-align: middle;\n",
              "    }\n",
              "\n",
              "    .dataframe tbody tr th {\n",
              "        vertical-align: top;\n",
              "    }\n",
              "\n",
              "    .dataframe thead th {\n",
              "        text-align: right;\n",
              "    }\n",
              "</style>\n",
              "<table border=\"1\" class=\"dataframe\">\n",
              "  <thead>\n",
              "    <tr style=\"text-align: right;\">\n",
              "      <th></th>\n",
              "      <th>index</th>\n",
              "      <th>year</th>\n",
              "      <th>suicides_no</th>\n",
              "      <th>population</th>\n",
              "      <th>suicides/100k pop</th>\n",
              "      <th>HDI for year</th>\n",
              "      <th>gdp_per_capita ($)</th>\n",
              "    </tr>\n",
              "  </thead>\n",
              "  <tbody>\n",
              "    <tr>\n",
              "      <th>count</th>\n",
              "      <td>120.000000</td>\n",
              "      <td>120.000000</td>\n",
              "      <td>120.000000</td>\n",
              "      <td>1.200000e+02</td>\n",
              "      <td>120.000000</td>\n",
              "      <td>120.000000</td>\n",
              "      <td>120.000000</td>\n",
              "    </tr>\n",
              "    <tr>\n",
              "      <th>mean</th>\n",
              "      <td>27075.500000</td>\n",
              "      <td>2003.500000</td>\n",
              "      <td>2966.358333</td>\n",
              "      <td>2.246871e+07</td>\n",
              "      <td>13.860500</td>\n",
              "      <td>0.891600</td>\n",
              "      <td>43951.800000</td>\n",
              "    </tr>\n",
              "    <tr>\n",
              "      <th>std</th>\n",
              "      <td>119.494383</td>\n",
              "      <td>9.953674</td>\n",
              "      <td>2967.916129</td>\n",
              "      <td>9.759830e+06</td>\n",
              "      <td>12.935104</td>\n",
              "      <td>0.024741</td>\n",
              "      <td>13287.568572</td>\n",
              "    </tr>\n",
              "    <tr>\n",
              "      <th>min</th>\n",
              "      <td>26848.000000</td>\n",
              "      <td>1985.000000</td>\n",
              "      <td>63.000000</td>\n",
              "      <td>4.064000e+06</td>\n",
              "      <td>0.310000</td>\n",
              "      <td>0.841000</td>\n",
              "      <td>19693.000000</td>\n",
              "    </tr>\n",
              "    <tr>\n",
              "      <th>25%</th>\n",
              "      <td>26973.750000</td>\n",
              "      <td>1995.000000</td>\n",
              "      <td>556.500000</td>\n",
              "      <td>1.855105e+07</td>\n",
              "      <td>3.997500</td>\n",
              "      <td>0.876000</td>\n",
              "      <td>31518.000000</td>\n",
              "    </tr>\n",
              "    <tr>\n",
              "      <th>50%</th>\n",
              "      <td>27123.500000</td>\n",
              "      <td>2007.500000</td>\n",
              "      <td>2220.500000</td>\n",
              "      <td>2.100708e+07</td>\n",
              "      <td>7.200000</td>\n",
              "      <td>0.903000</td>\n",
              "      <td>49706.000000</td>\n",
              "    </tr>\n",
              "    <tr>\n",
              "      <th>75%</th>\n",
              "      <td>27177.250000</td>\n",
              "      <td>2012.000000</td>\n",
              "      <td>4137.250000</td>\n",
              "      <td>2.602668e+07</td>\n",
              "      <td>23.632500</td>\n",
              "      <td>0.912000</td>\n",
              "      <td>55170.000000</td>\n",
              "    </tr>\n",
              "    <tr>\n",
              "      <th>max</th>\n",
              "      <td>27207.000000</td>\n",
              "      <td>2014.000000</td>\n",
              "      <td>11767.000000</td>\n",
              "      <td>4.350934e+07</td>\n",
              "      <td>57.850000</td>\n",
              "      <td>0.915000</td>\n",
              "      <td>58531.000000</td>\n",
              "    </tr>\n",
              "  </tbody>\n",
              "</table>\n",
              "</div>"
            ],
            "text/plain": [
              "              index         year   suicides_no    population  \\\n",
              "count    120.000000   120.000000    120.000000  1.200000e+02   \n",
              "mean   27075.500000  2003.500000   2966.358333  2.246871e+07   \n",
              "std      119.494383     9.953674   2967.916129  9.759830e+06   \n",
              "min    26848.000000  1985.000000     63.000000  4.064000e+06   \n",
              "25%    26973.750000  1995.000000    556.500000  1.855105e+07   \n",
              "50%    27123.500000  2007.500000   2220.500000  2.100708e+07   \n",
              "75%    27177.250000  2012.000000   4137.250000  2.602668e+07   \n",
              "max    27207.000000  2014.000000  11767.000000  4.350934e+07   \n",
              "\n",
              "       suicides/100k pop  HDI for year  gdp_per_capita ($)  \n",
              "count         120.000000    120.000000          120.000000  \n",
              "mean           13.860500      0.891600        43951.800000  \n",
              "std            12.935104      0.024741        13287.568572  \n",
              "min             0.310000      0.841000        19693.000000  \n",
              "25%             3.997500      0.876000        31518.000000  \n",
              "50%             7.200000      0.903000        49706.000000  \n",
              "75%            23.632500      0.912000        55170.000000  \n",
              "max            57.850000      0.915000        58531.000000  "
            ]
          },
          "metadata": {
            "tags": []
          },
          "execution_count": 23
        }
      ]
    },
    {
      "metadata": {
        "id": "NI0XA7xP98E8",
        "colab_type": "code",
        "colab": {
          "base_uri": "https://localhost:8080/",
          "height": 1058
        },
        "outputId": "3588b498-20b4-4b4b-9729-663655e5ef07"
      },
      "cell_type": "code",
      "source": [
        ""
      ],
      "execution_count": 21,
      "outputs": [
        {
          "output_type": "execute_result",
          "data": {
            "text/plain": [
              "Ireland                         120\n",
              "Spain                           120\n",
              "Belgium                         120\n",
              "Thailand                        120\n",
              "Ecuador                         120\n",
              "Netherlands                     120\n",
              "United Kingdom                  120\n",
              "Costa Rica                      120\n",
              "Bulgaria                        120\n",
              "Malta                           120\n",
              "United States                   120\n",
              "Colombia                        120\n",
              "Israel                          120\n",
              "Italy                           120\n",
              "Argentina                       120\n",
              "Greece                          120\n",
              "France                          120\n",
              "Mauritius                       120\n",
              "Brazil                          120\n",
              "Japan                           120\n",
              "Austria                         120\n",
              "Luxembourg                      120\n",
              "Iceland                         120\n",
              "Chile                           120\n",
              "Mexico                          120\n",
              "Paraguay                        120\n",
              "Canada                          108\n",
              "Czech Republic                  108\n",
              "Sweden                          108\n",
              "Romania                         108\n",
              "                               ... \n",
              "Saint Vincent and Grenadines     84\n",
              "Georgia                          84\n",
              "Trinidad and Tobago              84\n",
              "Uzbekistan                       84\n",
              "Serbia                           84\n",
              "South Africa                     84\n",
              "Cyprus                           84\n",
              "Slovakia                         84\n",
              "Qatar                            84\n",
              "Guyana                           84\n",
              "Suriname                         72\n",
              "Seychelles                       72\n",
              "Jamaica                          72\n",
              "Bahamas                          72\n",
              "Turkey                           60\n",
              "Turkmenistan                     60\n",
              "Belarus                          60\n",
              "Grenada                          60\n",
              "Nicaragua                        60\n",
              "Albania                          48\n",
              "Maldives                         48\n",
              "Philippines                      36\n",
              "Fiji                             36\n",
              "Antigua and Barbuda              36\n",
              "Oman                             24\n",
              "Sri Lanka                        24\n",
              "United Arab Emirates             24\n",
              "Bosnia and Herzegovina           24\n",
              "Azerbaijan                       24\n",
              "Montenegro                       12\n",
              "Name: country, Length: 90, dtype: int64"
            ]
          },
          "metadata": {
            "tags": []
          },
          "execution_count": 21
        }
      ]
    },
    {
      "metadata": {
        "id": "bDigJQIdb2_T",
        "colab_type": "text"
      },
      "cell_type": "markdown",
      "source": [
        "## References\n",
        "\n",
        "- [T-test using Python and Numpy](https://towardsdatascience.com/inferential-statistics-series-t-test-using-numpy-2718f8f9bf2f)\n"
      ]
    }
  ]
}