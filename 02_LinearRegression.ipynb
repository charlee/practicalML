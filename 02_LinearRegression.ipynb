{
  "nbformat": 4,
  "nbformat_minor": 0,
  "metadata": {
    "colab": {
      "name": "02_LinearRegression.ipynb",
      "version": "0.3.2",
      "provenance": [],
      "collapsed_sections": [],
      "include_colab_link": true
    },
    "kernelspec": {
      "name": "python3",
      "display_name": "Python 3"
    }
  },
  "cells": [
    {
      "cell_type": "markdown",
      "metadata": {
        "id": "view-in-github",
        "colab_type": "text"
      },
      "source": [
        "<a href=\"https://colab.research.google.com/github/charlee/practicalML/blob/master/02_LinearRegression.ipynb\" target=\"_parent\"><img src=\"https://colab.research.google.com/assets/colab-badge.svg\" alt=\"Open In Colab\"/></a>"
      ]
    },
    {
      "metadata": {
        "id": "zbxaYT2rOsyq",
        "colab_type": "text"
      },
      "cell_type": "markdown",
      "source": [
        "# Linear Regression\n",
        "\n",
        "\n",
        "Given dataset $\\mathcal{D} = \\{ (\\vec{x}_1, y_1), (\\vec{x}_2, y_2), \\cdots, (\\vec{x}_3, y_3)\\}$, in which $\\vec{x}_i = (x_{i_0}, x_{i_1}, \\cdots, x_{i_d}) \\in \\mathbb{R}^{d+1}, y \\in \\mathbb{R}.$\n",
        "\n",
        "output a linear prediction function:\n",
        "$$\\hat{y} = w_0 + w_1x_1 + w_2x_2 + \\cdots + w_dx_d$$\n",
        "\n",
        "**Input**: \n",
        "$$\\vec{x} = (x_0=1, x_1, x_2, \\cdots, x_d) \\in \\mathbb{R}^{d+1}$$\n",
        "\n",
        "**Model Parameter**:\n",
        "$$\\vec{w} = (w_0, w_1, w_2, \\cdots, w_d) \\in \\mathbb{R}^{d+1}$$\n",
        "\n",
        "\n",
        "\n"
      ]
    },
    {
      "metadata": {
        "id": "7wMiMuCbXolK",
        "colab_type": "text"
      },
      "cell_type": "markdown",
      "source": [
        "## Problem Formulation\n",
        "\n",
        "**Data Matrix**\n",
        "\n",
        "$$\\mathcal{X} = \\begin{bmatrix}\n",
        "\\vec{x}_1^\\intercal \\\\\n",
        "\\vec{x}_2^\\intercal \\\\\n",
        "\\vdots \\\\\n",
        "\\vec{x}_n^\\intercal \\\\\n",
        "\\end{bmatrix}\n",
        "\\in \\mathbb{R}^{n \\times (d+1)}\n",
        "$$\n",
        "\n",
        "**Observation vector**\n",
        "$$\\vec{y} = \\begin{bmatrix}\n",
        "y_1 \\\\\n",
        "y_2 \\\\\n",
        "\\vdots \\\\\n",
        "y_n \\\\\n",
        "\\end{bmatrix} \\in \\mathbb{R}^{n \\times 1}\n",
        "$$\n",
        "\n",
        "**Weight vector**\n",
        "$$\\vec{w} = \\begin{bmatrix}\n",
        "w_0 \\\\\n",
        "w_1 \\\\\n",
        "\\vdots \\\\\n",
        "w_d \\\\\n",
        "\\end{bmatrix} \\in \\mathbb{R}^{(d+1) \\times 1}\n",
        "$$\n",
        "\n",
        "**Prediction Vector**\n",
        "$$\\hat{y} = \\begin{bmatrix}\n",
        "\\hat{y}_1 \\\\\n",
        "\\hat{y}_2 \\\\\n",
        "\\vdots \\\\\n",
        "\\hat{y}_n \\\\\n",
        "\\end{bmatrix} = \\begin{bmatrix}\n",
        "\\vec{x}_1^\\intercal \\vec{w} \\\\\n",
        "\\vec{x}_2^\\intercal \\vec{w} \\\\\n",
        "\\vdots\\\\\n",
        "\\vec{x}_n^\\intercal \\vec{w} \\\\\n",
        "\\end{bmatrix} = \\mathcal{X}\\vec{w}\n",
        "$$\n",
        "\n",
        "In the ideal case, $\\hat{y} = \\vec{y}$.\n",
        "\n",
        "Thus\n",
        "$$y_i = \\hat{y}_i = \\vec{x}_i^\\intercal \\vec{w} = w_0 + w_1 x_{i_1} + w_2 x_{i_2} + \\cdots + w_dx_{i_d},\n",
        "\\forall i = 1, 2, \\cdots, n$$\n",
        "\n",
        "This holds if $n \\leq d + 1$.\n",
        "\n",
        "(Since this is an equation with $d+1$ unknowns thus only have solution when number of equations is not more than number of unknowns.)\n",
        "\n",
        "However this is not practical. $n \\leq d+1$ usually means the model is too compliated.\n",
        "\n",
        "**In practice:** $n \\gg d$\n",
        "\n",
        "**Rule of thumb:** $n \\approx 10 \\cdot d$.\n",
        "\n",
        "## Loss Function\n",
        "\n",
        "\\begin{align*}\n",
        "E_{in}(\\vec{w}) &= \\left\\lVert \\vec{y} - \\hat{y} \\right\\rVert ^ 2 = \\sum_{i=1}^n (y_i - \\hat{y}_i) ^ 2 \\\\\n",
        "&= \\left\\lVert \\vec{y} - \\mathcal{X}\\vec{w} \\right\\rVert ^2 \\\\\n",
        "&= \\sum_{i=1}^n (y_i - \\vec{x}_i^\\intercal \\vec{w})^2.\n",
        "\\end{align*}\n",
        "\n",
        "\n",
        "**Select** \n",
        "\\begin{align*}\n",
        "\\vec{w}^* &= \\text{argmin}_{\\vec{w} \\in \\mathbb{R}^{d+1}} E_{in}(\\vec{w}) \\\\\n",
        "&= \\text{argmin}_{\\vec{w} \\in \\mathbb{R}^{d+1}} \\left\\lVert \\vec{y} - \\mathcal{X}\\vec{w} \\right\\rVert ^ 2.\n",
        "\\end{align*}\n",
        "\n",
        "This has an analytic solution.\n",
        "\n",
        "**Analytic Solution**\n",
        "\n",
        "$$\\vec{w}_{LS} = \\big(\\mathcal{X}^\\intercal \\mathcal{X}\\big)^{-1} \\mathcal{X}^\\intercal \\vec{y}.$$\n",
        "\n"
      ]
    }
  ]
}